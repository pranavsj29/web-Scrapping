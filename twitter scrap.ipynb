{
 "cells": [
  {
   "cell_type": "code",
   "execution_count": 2,
   "id": "8254f1d6",
   "metadata": {},
   "outputs": [
    {
     "name": "stdout",
     "output_type": "stream",
     "text": [
      "                        Date             User  \\\n",
      "0  2022-07-30 14:06:55+00:00     Boredapesale   \n",
      "1  2022-07-30 14:06:55+00:00      NFT_Monitor   \n",
      "2  2022-07-30 14:05:37+00:00      cookienft30   \n",
      "3  2022-07-30 14:02:32+00:00  bitcoincryptonl   \n",
      "4  2022-07-30 14:01:43+00:00    ChiJohnnyCash   \n",
      "..                       ...              ...   \n",
      "95 2022-07-30 01:53:06+00:00          NeuzHUB   \n",
      "96 2022-07-30 01:46:05+00:00  CryptoDigiCurr1   \n",
      "97 2022-07-30 01:25:44+00:00  PressRelease_cc   \n",
      "98 2022-07-30 01:25:44+00:00  PressRelease_cc   \n",
      "99 2022-07-30 01:11:07+00:00          Uniq_cx   \n",
      "\n",
      "                                                Tweet  \n",
      "0   Bored Ape Yacht Club #2543 was sold for 88 ETH...  \n",
      "1   🐵 Bored Ape Yacht Club | #BAYC #NFT\\n\\n#2543 s...  \n",
      "2   Fill in the blank. The next Bored Ape Yacht Cl...  \n",
      "3   Nieuwsplatform van Bored Ape Yacht Club (APE) ...  \n",
      "4   Nobody told her Bored Ape Yacht Club is a cryp...  \n",
      "..                                                ...  \n",
      "95  Seychelles-headquartered cryptocurrency exchan...  \n",
      "96  ApeCoin DAO Votes To Fund Bored Ape Yacht Club...  \n",
      "97  Rarest Bored Ape Yacht Club And Moonbirds NFTs...  \n",
      "98  Rarest Bored Ape Yacht Club And Moonbirds NFTs...  \n",
      "99  Real-time charts for Bored Ape Yacht Club.\\n\\n...  \n",
      "\n",
      "[100 rows x 3 columns]\n"
     ]
    }
   ],
   "source": [
    "import snscrape.modules.twitter as sntwitter\n",
    "import pandas as pd\n",
    "\n",
    "\n",
    "query = \"Bored ape Yacht Club\"\n",
    "#query=\"\"\n",
    "tweets = []\n",
    "limit =100\n",
    "\n",
    "for tweet in sntwitter.TwitterSearchScraper(query).get_items():\n",
    "   # print(vars(tweet))\n",
    "   #break\n",
    "    if len(tweets)==limit:\n",
    "        break\n",
    "    else:\n",
    "        tweets.append([tweet.date,tweet.user.username,tweet.content])\n",
    "\n",
    "df = pd.DataFrame(tweets,columns=['Date',\"User\",\"Tweet\"])\n",
    "print(df)"
   ]
  },
  {
   "cell_type": "code",
   "execution_count": 5,
   "id": "92ef563b",
   "metadata": {},
   "outputs": [],
   "source": [
    "df.to_csv(\"bored ape yacht club.csv\")"
   ]
  },
  {
   "cell_type": "code",
   "execution_count": null,
   "id": "70392243",
   "metadata": {},
   "outputs": [],
   "source": []
  }
 ],
 "metadata": {
  "kernelspec": {
   "display_name": "Python 3 (ipykernel)",
   "language": "python",
   "name": "python3"
  },
  "language_info": {
   "codemirror_mode": {
    "name": "ipython",
    "version": 3
   },
   "file_extension": ".py",
   "mimetype": "text/x-python",
   "name": "python",
   "nbconvert_exporter": "python",
   "pygments_lexer": "ipython3",
   "version": "3.8.8"
  }
 },
 "nbformat": 4,
 "nbformat_minor": 5
}
